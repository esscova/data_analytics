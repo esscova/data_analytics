{
 "cells": [
  {
   "cell_type": "markdown",
   "id": "f531ac09",
   "metadata": {},
   "source": [
    "# Testes de hipóteses"
   ]
  },
  {
   "cell_type": "markdown",
   "id": "4cc88312",
   "metadata": {},
   "source": [
    "**Testes de hipóteses são métodos estatísticos usados para tomar decisões sobre populações baseando-se em dados amostrais. Eles envolvem:**\n",
    "\n",
    "- Duas hipóteses: nula (H0) e alternativa (H1).\n",
    "- Uma estatística de teste calculada a partir dos dados da amostra.\n",
    "- Um nível de significância (α) predefinido.\n",
    "- O cálculo do valor-p.\n",
    "- Uma decisão baseada na comparação entre o valor-p e o nível de significância.\n",
    "\n",
    "\n",
    "Esses testes permitem que pesquisadores e analistas façam inferências sobre populações, quantifiquem a evidência contra a hipótese nula e tomem decisões informadas, considerando a incerteza amostral."
   ]
  },
  {
   "cell_type": "markdown",
   "id": "b22b8f26",
   "metadata": {},
   "source": [
    "**Com esse contexto, vamos analisar a afirmação abaixo:**\n",
    "\n",
    "Uma drogaria informa que a média do tempo de entrega de um medicamento é menor que 38 minutos. \n",
    "\n",
    "Foi realizada uma amostragem de 36 entregas de medicamentos para verificar o tempo de entrega e foi obtido uma média de 36,5 minutos com desvio padrão de 3,5 minutos, considerando nível de significância de 0,01, há evidência suficiente para apoiar a afirmação da drogaria?"
   ]
  },
  {
   "cell_type": "markdown",
   "id": "67f4152d",
   "metadata": {},
   "source": [
    "## Passo 1: Formulação das Hipóteses\n",
    "\n",
    "- **Hipótese nula (H0)**: A média do tempo de entrega é maior ou igual a 38 minutos.\n",
    "- **Hipótese alternativa (Ha)**: A média do tempo de entrega é menor que 38 minutos.\n"
   ]
  },
  {
   "cell_type": "markdown",
   "id": "70805e48",
   "metadata": {},
   "source": [
    "## Passo 2: Coletar e Organizar os Dados\n",
    "\n",
    "Aqui estão os dados fornecidos:"
   ]
  },
  {
   "cell_type": "code",
   "execution_count": 1,
   "id": "05d1dfcc",
   "metadata": {},
   "outputs": [],
   "source": [
    "media_hipotetica = 38  # Média afirmada pela drogaria\n",
    "media_amostra = 36.5    # Média da amostra observada\n",
    "desvio_padrao = 3.5     # Desvio padrão da amostra\n",
    "tamanho_amostra = 36    # Tamanho da amostra\n",
    "nivel_significancia = 0.01  # Nível de significância"
   ]
  },
  {
   "cell_type": "markdown",
   "id": "1d9c1341",
   "metadata": {},
   "source": [
    "## Passo 3: Cálculo da Estatística de Teste\n",
    "\n",
    "Vamos calcular a estatística t:"
   ]
  },
  {
   "cell_type": "code",
   "execution_count": 2,
   "id": "935c5bf1",
   "metadata": {},
   "outputs": [
    {
     "data": {
      "text/plain": [
       "-2.571428571428571"
      ]
     },
     "execution_count": 2,
     "metadata": {},
     "output_type": "execute_result"
    }
   ],
   "source": [
    "from scipy import stats\n",
    "import numpy as np\n",
    "\n",
    "t_estatistica = (media_amostra - media_hipotetica) / (desvio_padrao / np.sqrt(tamanho_amostra))\n",
    "t_estatistica"
   ]
  },
  {
   "cell_type": "markdown",
   "id": "59fa98f6",
   "metadata": {},
   "source": [
    "A fórmula subtrai a média hipotética (38) da média amostral (36,5), dividindo o resultado pelo erro padrão da média.\n",
    "\n",
    "Erro padrão da média: Calculado como o desvio padrão da amostra dividido pela raiz quadrada do tamanho da amostra. Este valor mostra a variabilidade esperada na média amostral se a hipótese nula for verdadeira."
   ]
  },
  {
   "cell_type": "markdown",
   "id": "1872ef44",
   "metadata": {},
   "source": [
    "## Passo 4: Cálculo o valor-p\n",
    "\n",
    "O valor-p mede a probabilidade de obter uma estatística t tão extrema ou mais extrema que a observada, assumindo que a hipótese nula é verdadeira."
   ]
  },
  {
   "cell_type": "code",
   "execution_count": 3,
   "id": "b16f90cc",
   "metadata": {},
   "outputs": [
    {
     "data": {
      "text/plain": [
       "0.007267498658960822"
      ]
     },
     "execution_count": 3,
     "metadata": {},
     "output_type": "execute_result"
    }
   ],
   "source": [
    "valor_p = stats.t.sf(abs(t_estatistica), df=tamanho_amostra-1)\n",
    "valor_p"
   ]
  },
  {
   "cell_type": "markdown",
   "id": "6b77cc41",
   "metadata": {},
   "source": [
    "`sf` (survival function) retorna a probabilidade de a estatística t ser maior que um determinado valor (o complemento da função de distribuição acumulada). Usada aqui para um teste unilateral.\n",
    "\n",
    "\n",
    "`abs`(t_estatistica): Usa o valor absoluto de t_estatistica para garantir que estamos medindo a extremidade correta da distribuição t."
   ]
  },
  {
   "cell_type": "markdown",
   "id": "83e5e1bb",
   "metadata": {},
   "source": [
    "## Decisão baseada no valor-p"
   ]
  },
  {
   "cell_type": "code",
   "execution_count": 4,
   "id": "cdbdd090",
   "metadata": {},
   "outputs": [],
   "source": [
    "if valor_p < nivel_significancia:\n",
    "    decisao = \"Rejeitar a hipótese nula\"\n",
    "    conclusao = \"Há evidência suficiente para apoiar a afirmação da drogaria.\"\n",
    "else:\n",
    "    decisao = \"Não rejeitar a hipótese nula\"\n",
    "    conclusao = \"Não há evidência suficiente para apoiar a afirmação da drogaria.\""
   ]
  },
  {
   "cell_type": "markdown",
   "id": "e9b8af68",
   "metadata": {},
   "source": [
    "Se o valor-p for menor que o nível de significância (α), rejeitamos a hipótese nula. Isso significa que a evidência da amostra é forte o suficiente para suportar a afirmação de que a média do tempo de entrega é menor que 38 minutos.\n",
    "\n",
    "\n",
    "Dependendo do valor-p, o código decide se há ou não evidência suficiente para apoiar a afirmação da drogaria."
   ]
  },
  {
   "cell_type": "code",
   "execution_count": 5,
   "id": "4d302914",
   "metadata": {},
   "outputs": [
    {
     "name": "stdout",
     "output_type": "stream",
     "text": [
      "Estatística t: -2.5714\n",
      "Valor-p: 0.0073\n",
      "Decisão: Rejeitar a hipótese nula\n",
      "Conclusão: Há evidência suficiente para apoiar a afirmação da drogaria.\n"
     ]
    }
   ],
   "source": [
    "print(f\"Estatística t: {t_estatistica:.4f}\")\n",
    "print(f\"Valor-p: {valor_p:.4f}\")\n",
    "print(f\"Decisão: {decisao}\")\n",
    "print(f\"Conclusão: {conclusao}\")"
   ]
  },
  {
   "cell_type": "markdown",
   "id": "49a5bd74",
   "metadata": {},
   "source": [
    "## Conclusão\n",
    "\n",
    "**Há evidência suficiente para apoiar a afirmação da drogaria de que a média do tempo de entrega é menor que 38 minutos.**"
   ]
  }
 ],
 "metadata": {
  "kernelspec": {
   "display_name": "Python 3 (ipykernel)",
   "language": "python",
   "name": "python3"
  },
  "language_info": {
   "codemirror_mode": {
    "name": "ipython",
    "version": 3
   },
   "file_extension": ".py",
   "mimetype": "text/x-python",
   "name": "python",
   "nbconvert_exporter": "python",
   "pygments_lexer": "ipython3",
   "version": "3.11.5"
  }
 },
 "nbformat": 4,
 "nbformat_minor": 5
}
