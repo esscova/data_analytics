{
 "cells": [
  {
   "cell_type": "markdown",
   "metadata": {},
   "source": [
    "# Análise exploratória de Dados com Python - dataset Churn\n",
    "\n",
    "Objetivo: tratamento e limpeza dos dados"
   ]
  },
  {
   "cell_type": "code",
   "execution_count": 1,
   "metadata": {},
   "outputs": [],
   "source": [
    "# importando bibliotecas\n",
    "import pandas as pd\n",
    "import numpy as np\n",
    "import matplotlib.pyplot as plt\n",
    "import seaborn as sns"
   ]
  },
  {
   "cell_type": "code",
   "execution_count": 2,
   "metadata": {},
   "outputs": [],
   "source": [
    "# importando dados\n",
    "df = pd.read_csv('../datasets/Churn.csv', sep=';', encoding='iso-8859-1')"
   ]
  },
  {
   "cell_type": "markdown",
   "metadata": {},
   "source": [
    "## exploração"
   ]
  },
  {
   "cell_type": "code",
   "execution_count": 3,
   "metadata": {},
   "outputs": [
    {
     "data": {
      "text/html": [
       "<div>\n",
       "<style scoped>\n",
       "    .dataframe tbody tr th:only-of-type {\n",
       "        vertical-align: middle;\n",
       "    }\n",
       "\n",
       "    .dataframe tbody tr th {\n",
       "        vertical-align: top;\n",
       "    }\n",
       "\n",
       "    .dataframe thead th {\n",
       "        text-align: right;\n",
       "    }\n",
       "</style>\n",
       "<table border=\"1\" class=\"dataframe\">\n",
       "  <thead>\n",
       "    <tr style=\"text-align: right;\">\n",
       "      <th></th>\n",
       "      <th>X0</th>\n",
       "      <th>X1</th>\n",
       "      <th>X2</th>\n",
       "      <th>X3</th>\n",
       "      <th>X4</th>\n",
       "      <th>X4.1</th>\n",
       "      <th>X6</th>\n",
       "      <th>X7</th>\n",
       "      <th>X8</th>\n",
       "      <th>X9</th>\n",
       "      <th>X10</th>\n",
       "      <th>X11</th>\n",
       "    </tr>\n",
       "  </thead>\n",
       "  <tbody>\n",
       "    <tr>\n",
       "      <th>0</th>\n",
       "      <td>1</td>\n",
       "      <td>619</td>\n",
       "      <td>RS</td>\n",
       "      <td>Feminino</td>\n",
       "      <td>42</td>\n",
       "      <td>2</td>\n",
       "      <td>0</td>\n",
       "      <td>1</td>\n",
       "      <td>1</td>\n",
       "      <td>1</td>\n",
       "      <td>10134888.0</td>\n",
       "      <td>1</td>\n",
       "    </tr>\n",
       "    <tr>\n",
       "      <th>1</th>\n",
       "      <td>2</td>\n",
       "      <td>608</td>\n",
       "      <td>SC</td>\n",
       "      <td>Feminino</td>\n",
       "      <td>41</td>\n",
       "      <td>1</td>\n",
       "      <td>8380786</td>\n",
       "      <td>1</td>\n",
       "      <td>0</td>\n",
       "      <td>1</td>\n",
       "      <td>11254258.0</td>\n",
       "      <td>0</td>\n",
       "    </tr>\n",
       "    <tr>\n",
       "      <th>2</th>\n",
       "      <td>3</td>\n",
       "      <td>502</td>\n",
       "      <td>RS</td>\n",
       "      <td>Feminino</td>\n",
       "      <td>42</td>\n",
       "      <td>8</td>\n",
       "      <td>1596608</td>\n",
       "      <td>3</td>\n",
       "      <td>1</td>\n",
       "      <td>0</td>\n",
       "      <td>11393157.0</td>\n",
       "      <td>1</td>\n",
       "    </tr>\n",
       "    <tr>\n",
       "      <th>3</th>\n",
       "      <td>4</td>\n",
       "      <td>699</td>\n",
       "      <td>RS</td>\n",
       "      <td>Feminino</td>\n",
       "      <td>39</td>\n",
       "      <td>1</td>\n",
       "      <td>0</td>\n",
       "      <td>2</td>\n",
       "      <td>0</td>\n",
       "      <td>0</td>\n",
       "      <td>9382663.0</td>\n",
       "      <td>0</td>\n",
       "    </tr>\n",
       "    <tr>\n",
       "      <th>4</th>\n",
       "      <td>5</td>\n",
       "      <td>850</td>\n",
       "      <td>SC</td>\n",
       "      <td>Feminino</td>\n",
       "      <td>43</td>\n",
       "      <td>2</td>\n",
       "      <td>12551082</td>\n",
       "      <td>1</td>\n",
       "      <td>1</td>\n",
       "      <td>1</td>\n",
       "      <td>790841.0</td>\n",
       "      <td>0</td>\n",
       "    </tr>\n",
       "    <tr>\n",
       "      <th>...</th>\n",
       "      <td>...</td>\n",
       "      <td>...</td>\n",
       "      <td>...</td>\n",
       "      <td>...</td>\n",
       "      <td>...</td>\n",
       "      <td>...</td>\n",
       "      <td>...</td>\n",
       "      <td>...</td>\n",
       "      <td>...</td>\n",
       "      <td>...</td>\n",
       "      <td>...</td>\n",
       "      <td>...</td>\n",
       "    </tr>\n",
       "    <tr>\n",
       "      <th>994</th>\n",
       "      <td>996</td>\n",
       "      <td>838</td>\n",
       "      <td>SC</td>\n",
       "      <td>Masculino</td>\n",
       "      <td>43</td>\n",
       "      <td>9</td>\n",
       "      <td>12310588</td>\n",
       "      <td>2</td>\n",
       "      <td>1</td>\n",
       "      <td>0</td>\n",
       "      <td>14576583.0</td>\n",
       "      <td>0</td>\n",
       "    </tr>\n",
       "    <tr>\n",
       "      <th>995</th>\n",
       "      <td>997</td>\n",
       "      <td>610</td>\n",
       "      <td>SC</td>\n",
       "      <td>Masculino</td>\n",
       "      <td>29</td>\n",
       "      <td>9</td>\n",
       "      <td>0</td>\n",
       "      <td>3</td>\n",
       "      <td>0</td>\n",
       "      <td>1</td>\n",
       "      <td>8391224.0</td>\n",
       "      <td>0</td>\n",
       "    </tr>\n",
       "    <tr>\n",
       "      <th>996</th>\n",
       "      <td>998</td>\n",
       "      <td>811</td>\n",
       "      <td>SC</td>\n",
       "      <td>Masculino</td>\n",
       "      <td>44</td>\n",
       "      <td>3</td>\n",
       "      <td>0</td>\n",
       "      <td>2</td>\n",
       "      <td>0</td>\n",
       "      <td>1</td>\n",
       "      <td>7843973.0</td>\n",
       "      <td>0</td>\n",
       "    </tr>\n",
       "    <tr>\n",
       "      <th>997</th>\n",
       "      <td>999</td>\n",
       "      <td>587</td>\n",
       "      <td>SC</td>\n",
       "      <td>Masculino</td>\n",
       "      <td>62</td>\n",
       "      <td>7</td>\n",
       "      <td>12128627</td>\n",
       "      <td>1</td>\n",
       "      <td>0</td>\n",
       "      <td>1</td>\n",
       "      <td>677692.0</td>\n",
       "      <td>0</td>\n",
       "    </tr>\n",
       "    <tr>\n",
       "      <th>998</th>\n",
       "      <td>1000</td>\n",
       "      <td>811</td>\n",
       "      <td>PR</td>\n",
       "      <td>Feminino</td>\n",
       "      <td>28</td>\n",
       "      <td>4</td>\n",
       "      <td>16773882</td>\n",
       "      <td>2</td>\n",
       "      <td>1</td>\n",
       "      <td>1</td>\n",
       "      <td>990342.0</td>\n",
       "      <td>0</td>\n",
       "    </tr>\n",
       "  </tbody>\n",
       "</table>\n",
       "<p>999 rows × 12 columns</p>\n",
       "</div>"
      ],
      "text/plain": [
       "       X0   X1  X2         X3  X4  X4.1        X6  X7  X8  X9         X10  X11\n",
       "0       1  619  RS   Feminino  42     2         0   1   1   1  10134888.0    1\n",
       "1       2  608  SC   Feminino  41     1   8380786   1   0   1  11254258.0    0\n",
       "2       3  502  RS   Feminino  42     8   1596608   3   1   0  11393157.0    1\n",
       "3       4  699  RS   Feminino  39     1         0   2   0   0   9382663.0    0\n",
       "4       5  850  SC   Feminino  43     2  12551082   1   1   1    790841.0    0\n",
       "..    ...  ...  ..        ...  ..   ...       ...  ..  ..  ..         ...  ...\n",
       "994   996  838  SC  Masculino  43     9  12310588   2   1   0  14576583.0    0\n",
       "995   997  610  SC  Masculino  29     9         0   3   0   1   8391224.0    0\n",
       "996   998  811  SC  Masculino  44     3         0   2   0   1   7843973.0    0\n",
       "997   999  587  SC  Masculino  62     7  12128627   1   0   1    677692.0    0\n",
       "998  1000  811  PR   Feminino  28     4  16773882   2   1   1    990342.0    0\n",
       "\n",
       "[999 rows x 12 columns]"
      ]
     },
     "execution_count": 3,
     "metadata": {},
     "output_type": "execute_result"
    }
   ],
   "source": [
    "# conhecendo os dados\n",
    "df"
   ]
  },
  {
   "cell_type": "code",
   "execution_count": 4,
   "metadata": {},
   "outputs": [],
   "source": [
    "# renomando as colunas\n",
    "df.columns = ['id', 'score', 'estado', 'genero', 'idade', 'patrimonio', 'saldo', 'produtos', 'tem_cartao_credito', 'ativo', 'salario', 'saiu']"
   ]
  },
  {
   "cell_type": "code",
   "execution_count": 5,
   "metadata": {},
   "outputs": [
    {
     "name": "stdout",
     "output_type": "stream",
     "text": [
      "<class 'pandas.core.frame.DataFrame'>\n",
      "RangeIndex: 999 entries, 0 to 998\n",
      "Data columns (total 12 columns):\n",
      " #   Column              Non-Null Count  Dtype  \n",
      "---  ------              --------------  -----  \n",
      " 0   id                  999 non-null    int64  \n",
      " 1   score               999 non-null    int64  \n",
      " 2   estado              999 non-null    object \n",
      " 3   genero              991 non-null    object \n",
      " 4   idade               999 non-null    int64  \n",
      " 5   patrimonio          999 non-null    int64  \n",
      " 6   saldo               999 non-null    int64  \n",
      " 7   produtos            999 non-null    int64  \n",
      " 8   tem_cartao_credito  999 non-null    int64  \n",
      " 9   ativo               999 non-null    int64  \n",
      " 10  salario             992 non-null    float64\n",
      " 11  saiu                999 non-null    int64  \n",
      "dtypes: float64(1), int64(9), object(2)\n",
      "memory usage: 93.8+ KB\n"
     ]
    }
   ],
   "source": [
    "# informações sobre os dados\n",
    "df.info()"
   ]
  },
  {
   "cell_type": "code",
   "execution_count": 6,
   "metadata": {},
   "outputs": [
    {
     "data": {
      "text/plain": [
       "id                    0\n",
       "score                 0\n",
       "estado                0\n",
       "genero                8\n",
       "idade                 0\n",
       "patrimonio            0\n",
       "saldo                 0\n",
       "produtos              0\n",
       "tem_cartao_credito    0\n",
       "ativo                 0\n",
       "salario               7\n",
       "saiu                  0\n",
       "dtype: int64"
      ]
     },
     "execution_count": 6,
     "metadata": {},
     "output_type": "execute_result"
    }
   ],
   "source": [
    "# buscando dados nulos\n",
    "df.isnull().sum()"
   ]
  },
  {
   "cell_type": "code",
   "execution_count": 7,
   "metadata": {},
   "outputs": [
    {
     "data": {
      "text/html": [
       "<div>\n",
       "<style scoped>\n",
       "    .dataframe tbody tr th:only-of-type {\n",
       "        vertical-align: middle;\n",
       "    }\n",
       "\n",
       "    .dataframe tbody tr th {\n",
       "        vertical-align: top;\n",
       "    }\n",
       "\n",
       "    .dataframe thead th {\n",
       "        text-align: right;\n",
       "    }\n",
       "</style>\n",
       "<table border=\"1\" class=\"dataframe\">\n",
       "  <thead>\n",
       "    <tr style=\"text-align: right;\">\n",
       "      <th></th>\n",
       "      <th>count</th>\n",
       "      <th>mean</th>\n",
       "      <th>std</th>\n",
       "      <th>min</th>\n",
       "      <th>25%</th>\n",
       "      <th>50%</th>\n",
       "      <th>75%</th>\n",
       "      <th>max</th>\n",
       "    </tr>\n",
       "  </thead>\n",
       "  <tbody>\n",
       "    <tr>\n",
       "      <th>id</th>\n",
       "      <td>999.0</td>\n",
       "      <td>5.009169e+02</td>\n",
       "      <td>2.886629e+02</td>\n",
       "      <td>1.0</td>\n",
       "      <td>251.50</td>\n",
       "      <td>501.0</td>\n",
       "      <td>750.5</td>\n",
       "      <td>1.000000e+03</td>\n",
       "    </tr>\n",
       "    <tr>\n",
       "      <th>score</th>\n",
       "      <td>999.0</td>\n",
       "      <td>6.486216e+02</td>\n",
       "      <td>9.826422e+01</td>\n",
       "      <td>376.0</td>\n",
       "      <td>580.00</td>\n",
       "      <td>653.0</td>\n",
       "      <td>721.0</td>\n",
       "      <td>8.500000e+02</td>\n",
       "    </tr>\n",
       "    <tr>\n",
       "      <th>idade</th>\n",
       "      <td>999.0</td>\n",
       "      <td>3.890290e+01</td>\n",
       "      <td>1.140191e+01</td>\n",
       "      <td>-20.0</td>\n",
       "      <td>32.00</td>\n",
       "      <td>37.0</td>\n",
       "      <td>44.0</td>\n",
       "      <td>1.400000e+02</td>\n",
       "    </tr>\n",
       "    <tr>\n",
       "      <th>patrimonio</th>\n",
       "      <td>999.0</td>\n",
       "      <td>5.069069e+00</td>\n",
       "      <td>2.927691e+00</td>\n",
       "      <td>0.0</td>\n",
       "      <td>2.00</td>\n",
       "      <td>5.0</td>\n",
       "      <td>8.0</td>\n",
       "      <td>1.000000e+01</td>\n",
       "    </tr>\n",
       "    <tr>\n",
       "      <th>saldo</th>\n",
       "      <td>999.0</td>\n",
       "      <td>7.164928e+06</td>\n",
       "      <td>6.311840e+06</td>\n",
       "      <td>0.0</td>\n",
       "      <td>0.00</td>\n",
       "      <td>8958835.0</td>\n",
       "      <td>12586844.0</td>\n",
       "      <td>2.117743e+07</td>\n",
       "    </tr>\n",
       "    <tr>\n",
       "      <th>produtos</th>\n",
       "      <td>999.0</td>\n",
       "      <td>1.526527e+00</td>\n",
       "      <td>5.742007e-01</td>\n",
       "      <td>1.0</td>\n",
       "      <td>1.00</td>\n",
       "      <td>1.0</td>\n",
       "      <td>2.0</td>\n",
       "      <td>4.000000e+00</td>\n",
       "    </tr>\n",
       "    <tr>\n",
       "      <th>tem_cartao_credito</th>\n",
       "      <td>999.0</td>\n",
       "      <td>7.027027e-01</td>\n",
       "      <td>4.572974e-01</td>\n",
       "      <td>0.0</td>\n",
       "      <td>0.00</td>\n",
       "      <td>1.0</td>\n",
       "      <td>1.0</td>\n",
       "      <td>1.000000e+00</td>\n",
       "    </tr>\n",
       "    <tr>\n",
       "      <th>ativo</th>\n",
       "      <td>999.0</td>\n",
       "      <td>5.095095e-01</td>\n",
       "      <td>5.001600e-01</td>\n",
       "      <td>0.0</td>\n",
       "      <td>0.00</td>\n",
       "      <td>1.0</td>\n",
       "      <td>1.0</td>\n",
       "      <td>1.000000e+00</td>\n",
       "    </tr>\n",
       "    <tr>\n",
       "      <th>salario</th>\n",
       "      <td>992.0</td>\n",
       "      <td>3.528762e+07</td>\n",
       "      <td>5.305800e+08</td>\n",
       "      <td>9677.0</td>\n",
       "      <td>3029011.25</td>\n",
       "      <td>8703249.5</td>\n",
       "      <td>14052128.0</td>\n",
       "      <td>1.193469e+10</td>\n",
       "    </tr>\n",
       "    <tr>\n",
       "      <th>saiu</th>\n",
       "      <td>999.0</td>\n",
       "      <td>2.032032e-01</td>\n",
       "      <td>4.025840e-01</td>\n",
       "      <td>0.0</td>\n",
       "      <td>0.00</td>\n",
       "      <td>0.0</td>\n",
       "      <td>0.0</td>\n",
       "      <td>1.000000e+00</td>\n",
       "    </tr>\n",
       "  </tbody>\n",
       "</table>\n",
       "</div>"
      ],
      "text/plain": [
       "                    count          mean           std     min         25%  \\\n",
       "id                  999.0  5.009169e+02  2.886629e+02     1.0      251.50   \n",
       "score               999.0  6.486216e+02  9.826422e+01   376.0      580.00   \n",
       "idade               999.0  3.890290e+01  1.140191e+01   -20.0       32.00   \n",
       "patrimonio          999.0  5.069069e+00  2.927691e+00     0.0        2.00   \n",
       "saldo               999.0  7.164928e+06  6.311840e+06     0.0        0.00   \n",
       "produtos            999.0  1.526527e+00  5.742007e-01     1.0        1.00   \n",
       "tem_cartao_credito  999.0  7.027027e-01  4.572974e-01     0.0        0.00   \n",
       "ativo               999.0  5.095095e-01  5.001600e-01     0.0        0.00   \n",
       "salario             992.0  3.528762e+07  5.305800e+08  9677.0  3029011.25   \n",
       "saiu                999.0  2.032032e-01  4.025840e-01     0.0        0.00   \n",
       "\n",
       "                          50%         75%           max  \n",
       "id                      501.0       750.5  1.000000e+03  \n",
       "score                   653.0       721.0  8.500000e+02  \n",
       "idade                    37.0        44.0  1.400000e+02  \n",
       "patrimonio                5.0         8.0  1.000000e+01  \n",
       "saldo               8958835.0  12586844.0  2.117743e+07  \n",
       "produtos                  1.0         2.0  4.000000e+00  \n",
       "tem_cartao_credito        1.0         1.0  1.000000e+00  \n",
       "ativo                     1.0         1.0  1.000000e+00  \n",
       "salario             8703249.5  14052128.0  1.193469e+10  \n",
       "saiu                      0.0         0.0  1.000000e+00  "
      ]
     },
     "execution_count": 7,
     "metadata": {},
     "output_type": "execute_result"
    }
   ],
   "source": [
    "# describe\n",
    "df.describe().T"
   ]
  },
  {
   "cell_type": "code",
   "execution_count": 8,
   "metadata": {},
   "outputs": [
    {
     "data": {
      "text/html": [
       "<div>\n",
       "<style scoped>\n",
       "    .dataframe tbody tr th:only-of-type {\n",
       "        vertical-align: middle;\n",
       "    }\n",
       "\n",
       "    .dataframe tbody tr th {\n",
       "        vertical-align: top;\n",
       "    }\n",
       "\n",
       "    .dataframe thead th {\n",
       "        text-align: right;\n",
       "    }\n",
       "</style>\n",
       "<table border=\"1\" class=\"dataframe\">\n",
       "  <thead>\n",
       "    <tr style=\"text-align: right;\">\n",
       "      <th></th>\n",
       "      <th>id</th>\n",
       "      <th>score</th>\n",
       "      <th>estado</th>\n",
       "      <th>genero</th>\n",
       "      <th>idade</th>\n",
       "      <th>patrimonio</th>\n",
       "      <th>saldo</th>\n",
       "      <th>produtos</th>\n",
       "      <th>tem_cartao_credito</th>\n",
       "      <th>ativo</th>\n",
       "      <th>salario</th>\n",
       "      <th>saiu</th>\n",
       "    </tr>\n",
       "  </thead>\n",
       "  <tbody>\n",
       "    <tr>\n",
       "      <th>81</th>\n",
       "      <td>81</td>\n",
       "      <td>665</td>\n",
       "      <td>RS</td>\n",
       "      <td>Feminino</td>\n",
       "      <td>34</td>\n",
       "      <td>1</td>\n",
       "      <td>9664554</td>\n",
       "      <td>2</td>\n",
       "      <td>0</td>\n",
       "      <td>0</td>\n",
       "      <td>17141366.0</td>\n",
       "      <td>0</td>\n",
       "    </tr>\n",
       "  </tbody>\n",
       "</table>\n",
       "</div>"
      ],
      "text/plain": [
       "    id  score estado    genero  idade  patrimonio    saldo  produtos  \\\n",
       "81  81    665     RS  Feminino     34           1  9664554         2   \n",
       "\n",
       "    tem_cartao_credito  ativo     salario  saiu  \n",
       "81                   0      0  17141366.0     0  "
      ]
     },
     "execution_count": 8,
     "metadata": {},
     "output_type": "execute_result"
    }
   ],
   "source": [
    "# buscando dados duplicados por id\n",
    "df[df.duplicated()]"
   ]
  },
  {
   "cell_type": "markdown",
   "metadata": {},
   "source": [
    "##  exploração atributos"
   ]
  },
  {
   "cell_type": "markdown",
   "metadata": {},
   "source": [
    "### categoricos"
   ]
  },
  {
   "cell_type": "code",
   "execution_count": 21,
   "metadata": {},
   "outputs": [
    {
     "name": "stdout",
     "output_type": "stream",
     "text": [
      "estado\n",
      "RS    478\n",
      "SC    258\n",
      "PR    257\n",
      "SP      4\n",
      "RP      1\n",
      "TD      1\n",
      "Name: count, dtype: int64\n",
      "\n",
      "RS é o estado mais frequente\n",
      "\n",
      " Dados faltantes:        id  score estado     genero  idade  patrimonio     saldo  produtos  \\\n",
      "0       1    619     RS   Feminino     42           2         0         1   \n",
      "1       2    608     SC   Feminino     41           1   8380786         1   \n",
      "2       3    502     RS   Feminino     42           8   1596608         3   \n",
      "3       4    699     RS   Feminino     39           1         0         2   \n",
      "4       5    850     SC   Feminino     43           2  12551082         1   \n",
      "..    ...    ...    ...        ...    ...         ...       ...       ...   \n",
      "994   996    838     SC  Masculino     43           9  12310588         2   \n",
      "995   997    610     SC  Masculino     29           9         0         3   \n",
      "996   998    811     SC  Masculino     44           3         0         2   \n",
      "997   999    587     SC  Masculino     62           7  12128627         1   \n",
      "998  1000    811     PR   Feminino     28           4  16773882         2   \n",
      "\n",
      "     tem_cartao_credito  ativo     salario  saiu  \n",
      "0                     1      1  10134888.0     1  \n",
      "1                     0      1  11254258.0     0  \n",
      "2                     1      0  11393157.0     1  \n",
      "3                     0      0   9382663.0     0  \n",
      "4                     1      1    790841.0     0  \n",
      "..                  ...    ...         ...   ...  \n",
      "994                   1      0  14576583.0     0  \n",
      "995                   0      1   8391224.0     0  \n",
      "996                   0      1   7843973.0     0  \n",
      "997                   0      1    677692.0     0  \n",
      "998                   1      1    990342.0     0  \n",
      "\n",
      "[999 rows x 12 columns]\n"
     ]
    },
    {
     "data": {
      "image/png": "[encoded data removed]",
      "text/plain": [
       "<Figure size 640x480 with 1 Axes>"
      ]
     },
     "metadata": {},
     "output_type": "display_data"
    }
   ],
   "source": [
    "# estado\n",
    "print(df['estado'].value_counts())\n",
    "print(f'\\n{df.estado.mode()[0]} é o estado mais frequente')\n",
    "print(f'\\n Dados faltantes: {df}')\n",
    "sns.countplot(x='estado', data=df);"
   ]
  },
  {
   "cell_type": "code",
   "execution_count": 22,
   "metadata": {},
   "outputs": [
    {
     "name": "stdout",
     "output_type": "stream",
     "text": [
      "genero\n",
      "Masculino    521\n",
      "Feminino     461\n",
      "M              6\n",
      "F              2\n",
      "Fem            1\n",
      "Name: count, dtype: int64\n",
      "\n",
      "Masculino é o genero mais frequente\n"
     ]
    },
    {
     "data": {
      "image/png": "[encoded data removed]",
      "text/plain": [
       "<Figure size 640x480 with 1 Axes>"
      ]
     },
     "metadata": {},
     "output_type": "display_data"
    }
   ],
   "source": [
    "# genero\n",
    "print(df['genero'].value_counts())\n",
    "print(f'\\n{df.genero.mode()[0]} é o genero mais frequente')\n",
    "sns.countplot(x='genero', data=df);"
   ]
  },
  {
   "cell_type": "markdown",
   "metadata": {},
   "source": [
    "### numericas"
   ]
  },
  {
   "cell_type": "code",
   "execution_count": 23,
   "metadata": {},
   "outputs": [
    {
     "name": "stdout",
     "output_type": "stream",
     "text": [
      "Resumo estatístico para score:\n",
      "count    999.000000\n",
      "mean     648.621622\n",
      "std       98.264219\n",
      "min      376.000000\n",
      "25%      580.000000\n",
      "50%      653.000000\n",
      "75%      721.000000\n",
      "max      850.000000\n",
      "Name: score, dtype: float64\n",
      "\n"
     ]
    },
    {
     "data": {
      "image/png": "[encoded data removed]",
      "text/plain": [
       "<Figure size 1500x500 with 2 Axes>"
      ]
     },
     "metadata": {},
     "output_type": "display_data"
    },
    {
     "name": "stdout",
     "output_type": "stream",
     "text": [
      "Resumo estatístico para idade:\n",
      "count    999.000000\n",
      "mean      38.902903\n",
      "std       11.401912\n",
      "min      -20.000000\n",
      "25%       32.000000\n",
      "50%       37.000000\n",
      "75%       44.000000\n",
      "max      140.000000\n",
      "Name: idade, dtype: float64\n",
      "\n"
     ]
    },
    {
     "data": {
      "image/png": "[encoded data removed]",
      "text/plain": [
       "<Figure size 1500x500 with 2 Axes>"
      ]
     },
     "metadata": {},
     "output_type": "display_data"
    },
    {
     "name": "stdout",
     "output_type": "stream",
     "text": [
      "Resumo estatístico para saldo:\n",
      "count    9.990000e+02\n",
      "mean     7.164928e+06\n",
      "std      6.311840e+06\n",
      "min      0.000000e+00\n",
      "25%      0.000000e+00\n",
      "50%      8.958835e+06\n",
      "75%      1.258684e+07\n",
      "max      2.117743e+07\n",
      "Name: saldo, dtype: float64\n",
      "\n"
     ]
    },
    {
     "data": {
      "image/png": "[encoded data removed]",
      "text/plain": [
       "<Figure size 1500x500 with 2 Axes>"
      ]
     },
     "metadata": {},
     "output_type": "display_data"
    },
    {
     "name": "stdout",
     "output_type": "stream",
     "text": [
      "Resumo estatístico para salario:\n",
      "count    9.920000e+02\n",
      "mean     3.528762e+07\n",
      "std      5.305800e+08\n",
      "min      9.677000e+03\n",
      "25%      3.029011e+06\n",
      "50%      8.703250e+06\n",
      "75%      1.405213e+07\n",
      "max      1.193469e+10\n",
      "Name: salario, dtype: float64\n",
      "\n"
     ]
    },
    {
     "data": {
      "image/png": "[encoded data removed]",
      "text/plain": [
       "<Figure size 1500x500 with 2 Axes>"
      ]
     },
     "metadata": {},
     "output_type": "display_data"
    }
   ],
   "source": [
    "# visualizar sumario, boxplot e histograma\n",
    "for col in df[['score', 'idade', 'saldo', 'salario']].columns:\n",
    "    print(f\"Resumo estatístico para {col}:\\n{df[col].describe()}\\n\")\n",
    "    fig, ax = plt.subplots(1, 2, figsize=(15, 5))\n",
    "\n",
    "    sns.boxplot(x=df[col], ax=ax[0]).set_title(f'Boxplot de {col}')\n",
    "    sns.histplot(x=df[col],kde=True, ax=ax[1]).set_title(f'Histograma de {col}')\n",
    "\n",
    "    plt.tight_layout()\n",
    "    plt.show()"
   ]
  },
  {
   "cell_type": "markdown",
   "metadata": {},
   "source": [
    "## tratamento de dados "
   ]
  },
  {
   "cell_type": "code",
   "execution_count": 160,
   "metadata": {},
   "outputs": [],
   "source": [
    "# dataframe cópia\n",
    "df2 = df.copy()"
   ]
  },
  {
   "cell_type": "code",
   "execution_count": 161,
   "metadata": {},
   "outputs": [
    {
     "data": {
      "text/html": [
       "<div>\n",
       "<style scoped>\n",
       "    .dataframe tbody tr th:only-of-type {\n",
       "        vertical-align: middle;\n",
       "    }\n",
       "\n",
       "    .dataframe tbody tr th {\n",
       "        vertical-align: top;\n",
       "    }\n",
       "\n",
       "    .dataframe thead th {\n",
       "        text-align: right;\n",
       "    }\n",
       "</style>\n",
       "<table border=\"1\" class=\"dataframe\">\n",
       "  <thead>\n",
       "    <tr style=\"text-align: right;\">\n",
       "      <th></th>\n",
       "      <th>id</th>\n",
       "      <th>score</th>\n",
       "      <th>estado</th>\n",
       "      <th>genero</th>\n",
       "      <th>idade</th>\n",
       "      <th>patrimonio</th>\n",
       "      <th>saldo</th>\n",
       "      <th>produtos</th>\n",
       "      <th>tem_cartao_credito</th>\n",
       "      <th>ativo</th>\n",
       "      <th>salario</th>\n",
       "      <th>saiu</th>\n",
       "    </tr>\n",
       "  </thead>\n",
       "  <tbody>\n",
       "    <tr>\n",
       "      <th>81</th>\n",
       "      <td>81</td>\n",
       "      <td>665</td>\n",
       "      <td>RS</td>\n",
       "      <td>Feminino</td>\n",
       "      <td>34</td>\n",
       "      <td>1</td>\n",
       "      <td>9664554</td>\n",
       "      <td>2</td>\n",
       "      <td>0</td>\n",
       "      <td>0</td>\n",
       "      <td>17141366.0</td>\n",
       "      <td>0</td>\n",
       "    </tr>\n",
       "  </tbody>\n",
       "</table>\n",
       "</div>"
      ],
      "text/plain": [
       "    id  score estado    genero  idade  patrimonio    saldo  produtos  \\\n",
       "81  81    665     RS  Feminino     34           1  9664554         2   \n",
       "\n",
       "    tem_cartao_credito  ativo     salario  saiu  \n",
       "81                   0      0  17141366.0     0  "
      ]
     },
     "execution_count": 161,
     "metadata": {},
     "output_type": "execute_result"
    }
   ],
   "source": [
    "# verficando id duplicado\n",
    "df2[df2.id.duplicated()]"
   ]
  },
  {
   "cell_type": "code",
   "execution_count": 162,
   "metadata": {},
   "outputs": [],
   "source": [
    "# remoção de id duplicado\n",
    "df2 = df2.drop_duplicates(subset='id', keep='first')"
   ]
  },
  {
   "cell_type": "code",
   "execution_count": 163,
   "metadata": {},
   "outputs": [
    {
     "data": {
      "text/html": [
       "<div>\n",
       "<style scoped>\n",
       "    .dataframe tbody tr th:only-of-type {\n",
       "        vertical-align: middle;\n",
       "    }\n",
       "\n",
       "    .dataframe tbody tr th {\n",
       "        vertical-align: top;\n",
       "    }\n",
       "\n",
       "    .dataframe thead th {\n",
       "        text-align: right;\n",
       "    }\n",
       "</style>\n",
       "<table border=\"1\" class=\"dataframe\">\n",
       "  <thead>\n",
       "    <tr style=\"text-align: right;\">\n",
       "      <th></th>\n",
       "      <th>id</th>\n",
       "      <th>score</th>\n",
       "      <th>estado</th>\n",
       "      <th>genero</th>\n",
       "      <th>idade</th>\n",
       "      <th>patrimonio</th>\n",
       "      <th>saldo</th>\n",
       "      <th>produtos</th>\n",
       "      <th>tem_cartao_credito</th>\n",
       "      <th>ativo</th>\n",
       "      <th>salario</th>\n",
       "      <th>saiu</th>\n",
       "    </tr>\n",
       "  </thead>\n",
       "  <tbody>\n",
       "  </tbody>\n",
       "</table>\n",
       "</div>"
      ],
      "text/plain": [
       "Empty DataFrame\n",
       "Columns: [id, score, estado, genero, idade, patrimonio, saldo, produtos, tem_cartao_credito, ativo, salario, saiu]\n",
       "Index: []"
      ]
     },
     "execution_count": 163,
     "metadata": {},
     "output_type": "execute_result"
    }
   ],
   "source": [
    "# verficando alterações\n",
    "df2[df2.id.duplicated()]"
   ]
  },
  {
   "cell_type": "markdown",
   "metadata": {},
   "source": [
    "### categoricos"
   ]
  },
  {
   "cell_type": "code",
   "execution_count": 164,
   "metadata": {},
   "outputs": [
    {
     "name": "stdout",
     "output_type": "stream",
     "text": [
      "Valores únicos antes do tratamento: ['Feminino' 'Masculino' 'M' nan 'F' 'Fem']\n",
      "Dados nulos ou ausentes antes do tratamento: 8\n",
      "\n",
      "Valores únicos após o tratamento: ['Feminino' 'Masculino']\n",
      "Dados nulos ou ausentes após o tratamento: 0\n",
      "\n",
      "Contagem de valores únicos: \n",
      "genero\n",
      "Masculino    535\n",
      "Feminino     463\n",
      "Name: count, dtype: int64\n",
      "\n"
     ]
    },
    {
     "data": {
      "image/png": "[encoded data removed]",
      "text/plain": [
       "<Figure size 640x480 with 1 Axes>"
      ]
     },
     "metadata": {},
     "output_type": "display_data"
    }
   ],
   "source": [
    "# atributo genero\n",
    "# verificando dados fora de dominio\n",
    "print(f'Valores únicos antes do tratamento: {df2['genero'].unique()}')\n",
    "\n",
    "# verificando dados nulos\n",
    "print(f'Dados nulos ou ausentes antes do tratamento: {df2['genero'].isna().sum()}')\n",
    "\n",
    "# substituindo dados nulos com a moda\n",
    "df2['genero'] = df2['genero'].fillna(df2['genero'].mode()[0])\n",
    "\n",
    "# substituindo valores fora do dominio\n",
    "df2['genero'] = df2['genero'].replace(['M', 'F'], ['Masculino', 'Feminino']).replace('Fem','Feminino')\n",
    "\n",
    "# verificando alterações\n",
    "print(f'\\nValores únicos após o tratamento: {df2['genero'].unique()}')\n",
    "print(f'Dados nulos ou ausentes após o tratamento: {df2['genero'].isna().sum()}')\n",
    "print(f'\\nContagem de valores únicos: \\n{df2['genero'].value_counts()}\\n')\n",
    "\n",
    "# visualizando \n",
    "sns.countplot(x='genero', data=df2);"
   ]
  },
  {
   "cell_type": "code",
   "execution_count": 165,
   "metadata": {},
   "outputs": [
    {
     "name": "stdout",
     "output_type": "stream",
     "text": [
      "Valores únicos antes do tratamento: ['RS' 'SC' 'PR' 'RP' 'SP' 'TD']\n",
      "Dados nulos ou ausentes antes do tratamento: 0\n"
     ]
    }
   ],
   "source": [
    "# atributo estado\n",
    "# verificando dados fora de dominio\n",
    "print(f'Valores únicos antes do tratamento: {df2['estado'].unique()}')\n",
    "\n",
    "# verificando dados nulos\n",
    "print(f'Dados nulos ou ausentes antes do tratamento: {df2['estado'].isna().sum()}')"
   ]
  },
  {
   "cell_type": "code",
   "execution_count": 166,
   "metadata": {},
   "outputs": [
    {
     "name": "stdout",
     "output_type": "stream",
     "text": [
      "\n",
      "Valores únicos depois do tratamento: ['RS' 'SC' 'PR']\n",
      "\n",
      "Contagem de valores únicos: \n",
      "estado\n",
      "RS    483\n",
      "SC    258\n",
      "PR    257\n",
      "Name: count, dtype: int64\n",
      "\n"
     ]
    },
    {
     "data": {
      "image/png": "[encoded data removed]",
      "text/plain": [
       "<Figure size 640x480 with 1 Axes>"
      ]
     },
     "metadata": {},
     "output_type": "display_data"
    }
   ],
   "source": [
    "# substituindo valores fora do dominio pela moda\n",
    "df2.loc[(df2['estado'] == 'SP') | (df2['estado'] == 'TD') | (df2.estado == 'RP'),'estado'] = df2['estado'].mode()[0]\n",
    "\n",
    "# verificando alterações\n",
    "print(f'\\nValores únicos depois do tratamento: {df2['estado'].unique()}')\n",
    "print(f'\\nContagem de valores únicos: \\n{df2['estado'].value_counts()}\\n')\n",
    "\n",
    "# visualizando\n",
    "sns.countplot(x='estado', data=df2);"
   ]
  },
  {
   "cell_type": "markdown",
   "metadata": {},
   "source": [
    "### numericos"
   ]
  },
  {
   "cell_type": "markdown",
   "metadata": {},
   "source": [
    "#### idade"
   ]
  },
  {
   "cell_type": "code",
   "execution_count": 167,
   "metadata": {},
   "outputs": [
    {
     "name": "stdout",
     "output_type": "stream",
     "text": [
      "Dados nulos ou ausentes antes do tratamento: 0\n",
      "\n",
      "Registros fora do dominio:\n"
     ]
    },
    {
     "data": {
      "text/html": [
       "<div>\n",
       "<style scoped>\n",
       "    .dataframe tbody tr th:only-of-type {\n",
       "        vertical-align: middle;\n",
       "    }\n",
       "\n",
       "    .dataframe tbody tr th {\n",
       "        vertical-align: top;\n",
       "    }\n",
       "\n",
       "    .dataframe thead th {\n",
       "        text-align: right;\n",
       "    }\n",
       "</style>\n",
       "<table border=\"1\" class=\"dataframe\">\n",
       "  <thead>\n",
       "    <tr style=\"text-align: right;\">\n",
       "      <th></th>\n",
       "      <th>id</th>\n",
       "      <th>score</th>\n",
       "      <th>estado</th>\n",
       "      <th>genero</th>\n",
       "      <th>idade</th>\n",
       "      <th>patrimonio</th>\n",
       "      <th>saldo</th>\n",
       "      <th>produtos</th>\n",
       "      <th>tem_cartao_credito</th>\n",
       "      <th>ativo</th>\n",
       "      <th>salario</th>\n",
       "      <th>saiu</th>\n",
       "    </tr>\n",
       "  </thead>\n",
       "  <tbody>\n",
       "    <tr>\n",
       "      <th>851</th>\n",
       "      <td>853</td>\n",
       "      <td>667</td>\n",
       "      <td>PR</td>\n",
       "      <td>Feminino</td>\n",
       "      <td>0</td>\n",
       "      <td>1</td>\n",
       "      <td>9713392</td>\n",
       "      <td>2</td>\n",
       "      <td>0</td>\n",
       "      <td>0</td>\n",
       "      <td>11331677.0</td>\n",
       "      <td>1</td>\n",
       "    </tr>\n",
       "    <tr>\n",
       "      <th>867</th>\n",
       "      <td>869</td>\n",
       "      <td>636</td>\n",
       "      <td>RS</td>\n",
       "      <td>Feminino</td>\n",
       "      <td>-10</td>\n",
       "      <td>1</td>\n",
       "      <td>17083346</td>\n",
       "      <td>1</td>\n",
       "      <td>1</td>\n",
       "      <td>0</td>\n",
       "      <td>11051028.0</td>\n",
       "      <td>1</td>\n",
       "    </tr>\n",
       "    <tr>\n",
       "      <th>887</th>\n",
       "      <td>889</td>\n",
       "      <td>585</td>\n",
       "      <td>RS</td>\n",
       "      <td>Masculino</td>\n",
       "      <td>0</td>\n",
       "      <td>2</td>\n",
       "      <td>0</td>\n",
       "      <td>2</td>\n",
       "      <td>1</td>\n",
       "      <td>1</td>\n",
       "      <td>1865777.0</td>\n",
       "      <td>0</td>\n",
       "    </tr>\n",
       "    <tr>\n",
       "      <th>930</th>\n",
       "      <td>932</td>\n",
       "      <td>661</td>\n",
       "      <td>SC</td>\n",
       "      <td>Masculino</td>\n",
       "      <td>0</td>\n",
       "      <td>6</td>\n",
       "      <td>13262898</td>\n",
       "      <td>1</td>\n",
       "      <td>0</td>\n",
       "      <td>0</td>\n",
       "      <td>3881267.0</td>\n",
       "      <td>0</td>\n",
       "    </tr>\n",
       "    <tr>\n",
       "      <th>931</th>\n",
       "      <td>933</td>\n",
       "      <td>564</td>\n",
       "      <td>PR</td>\n",
       "      <td>Masculino</td>\n",
       "      <td>0</td>\n",
       "      <td>9</td>\n",
       "      <td>10352275</td>\n",
       "      <td>2</td>\n",
       "      <td>1</td>\n",
       "      <td>1</td>\n",
       "      <td>3433821.0</td>\n",
       "      <td>0</td>\n",
       "    </tr>\n",
       "    <tr>\n",
       "      <th>947</th>\n",
       "      <td>949</td>\n",
       "      <td>715</td>\n",
       "      <td>RS</td>\n",
       "      <td>Feminino</td>\n",
       "      <td>0</td>\n",
       "      <td>5</td>\n",
       "      <td>11859041</td>\n",
       "      <td>1</td>\n",
       "      <td>1</td>\n",
       "      <td>1</td>\n",
       "      <td>568417.0</td>\n",
       "      <td>1</td>\n",
       "    </tr>\n",
       "    <tr>\n",
       "      <th>984</th>\n",
       "      <td>986</td>\n",
       "      <td>773</td>\n",
       "      <td>RS</td>\n",
       "      <td>Masculino</td>\n",
       "      <td>-20</td>\n",
       "      <td>1</td>\n",
       "      <td>12453278</td>\n",
       "      <td>2</td>\n",
       "      <td>0</td>\n",
       "      <td>1</td>\n",
       "      <td>1172357.0</td>\n",
       "      <td>0</td>\n",
       "    </tr>\n",
       "    <tr>\n",
       "      <th>990</th>\n",
       "      <td>992</td>\n",
       "      <td>655</td>\n",
       "      <td>RS</td>\n",
       "      <td>Masculino</td>\n",
       "      <td>140</td>\n",
       "      <td>5</td>\n",
       "      <td>93147</td>\n",
       "      <td>2</td>\n",
       "      <td>1</td>\n",
       "      <td>0</td>\n",
       "      <td>6621413.0</td>\n",
       "      <td>0</td>\n",
       "    </tr>\n",
       "  </tbody>\n",
       "</table>\n",
       "</div>"
      ],
      "text/plain": [
       "      id  score estado     genero  idade  patrimonio     saldo  produtos  \\\n",
       "851  853    667     PR   Feminino      0           1   9713392         2   \n",
       "867  869    636     RS   Feminino    -10           1  17083346         1   \n",
       "887  889    585     RS  Masculino      0           2         0         2   \n",
       "930  932    661     SC  Masculino      0           6  13262898         1   \n",
       "931  933    564     PR  Masculino      0           9  10352275         2   \n",
       "947  949    715     RS   Feminino      0           5  11859041         1   \n",
       "984  986    773     RS  Masculino    -20           1  12453278         2   \n",
       "990  992    655     RS  Masculino    140           5     93147         2   \n",
       "\n",
       "     tem_cartao_credito  ativo     salario  saiu  \n",
       "851                   0      0  11331677.0     1  \n",
       "867                   1      0  11051028.0     1  \n",
       "887                   1      1   1865777.0     0  \n",
       "930                   0      0   3881267.0     0  \n",
       "931                   1      1   3433821.0     0  \n",
       "947                   1      1    568417.0     1  \n",
       "984                   0      1   1172357.0     0  \n",
       "990                   1      0   6621413.0     0  "
      ]
     },
     "execution_count": 167,
     "metadata": {},
     "output_type": "execute_result"
    }
   ],
   "source": [
    "# verificando dados nulos ou ausentes\n",
    "print(f'Dados nulos ou ausentes antes do tratamento: {df2.idade.isna().sum()}')\n",
    "\n",
    "# verificando dados fora de dominio\n",
    "print('\\nRegistros fora do dominio:')\n",
    "df2.loc[(df2['idade'] >= 110) | (df2['idade'] <= 0)]"
   ]
  },
  {
   "cell_type": "code",
   "execution_count": 168,
   "metadata": {},
   "outputs": [
    {
     "data": {
      "text/html": [
       "<div>\n",
       "<style scoped>\n",
       "    .dataframe tbody tr th:only-of-type {\n",
       "        vertical-align: middle;\n",
       "    }\n",
       "\n",
       "    .dataframe tbody tr th {\n",
       "        vertical-align: top;\n",
       "    }\n",
       "\n",
       "    .dataframe thead th {\n",
       "        text-align: right;\n",
       "    }\n",
       "</style>\n",
       "<table border=\"1\" class=\"dataframe\">\n",
       "  <thead>\n",
       "    <tr style=\"text-align: right;\">\n",
       "      <th></th>\n",
       "      <th>id</th>\n",
       "      <th>score</th>\n",
       "      <th>estado</th>\n",
       "      <th>genero</th>\n",
       "      <th>idade</th>\n",
       "      <th>patrimonio</th>\n",
       "      <th>saldo</th>\n",
       "      <th>produtos</th>\n",
       "      <th>tem_cartao_credito</th>\n",
       "      <th>ativo</th>\n",
       "      <th>salario</th>\n",
       "      <th>saiu</th>\n",
       "    </tr>\n",
       "  </thead>\n",
       "  <tbody>\n",
       "  </tbody>\n",
       "</table>\n",
       "</div>"
      ],
      "text/plain": [
       "Empty DataFrame\n",
       "Columns: [id, score, estado, genero, idade, patrimonio, saldo, produtos, tem_cartao_credito, ativo, salario, saiu]\n",
       "Index: []"
      ]
     },
     "execution_count": 168,
     "metadata": {},
     "output_type": "execute_result"
    }
   ],
   "source": [
    "# substituindo valores fora do dominio pela mediana\n",
    "df2.loc[(df2['idade'] >= 110) | (df2['idade'] <= 0)] = df2['idade'].median()\n",
    "\n",
    "# verificando alterações    \n",
    "df2.loc[(df2['idade'] >= 110) | (df2['idade'] <= 0)]"
   ]
  },
  {
   "cell_type": "code",
   "execution_count": 169,
   "metadata": {},
   "outputs": [
    {
     "data": {
      "text/plain": [
       "count    998.000000\n",
       "mean      39.094188\n",
       "std       10.314179\n",
       "min       18.000000\n",
       "25%       32.000000\n",
       "50%       37.000000\n",
       "75%       44.000000\n",
       "max       82.000000\n",
       "Name: idade, dtype: float64"
      ]
     },
     "execution_count": 169,
     "metadata": {},
     "output_type": "execute_result"
    }
   ],
   "source": [
    "df2.idade.describe()"
   ]
  },
  {
   "cell_type": "code",
   "execution_count": 170,
   "metadata": {},
   "outputs": [
    {
     "data": {
      "image/png": "[encoded data removed]",
      "text/plain": [
       "<Figure size 1500x500 with 2 Axes>"
      ]
     },
     "metadata": {},
     "output_type": "display_data"
    }
   ],
   "source": [
    "# visualizando\n",
    "fig, ax = plt.subplots(1, 2, figsize=(15, 5))\n",
    "sns.boxplot(x=df2['idade'], ax=ax[0]).set_title('Boxplot de idade');\n",
    "sns.histplot(x=df2['idade'], kde=True, ax=ax[1]).set_title('Histograma de idade');\n",
    "plt.tight_layout()\n",
    "plt.show()"
   ]
  },
  {
   "cell_type": "markdown",
   "metadata": {},
   "source": [
    "#### salario"
   ]
  },
  {
   "cell_type": "code",
   "execution_count": 171,
   "metadata": {},
   "outputs": [
    {
     "name": "stdout",
     "output_type": "stream",
     "text": [
      "Dados nulos ou ausentes antes do tratamento: 7\n"
     ]
    }
   ],
   "source": [
    "# verificando dados nulos ou ausentes\n",
    "print(f'Dados nulos ou ausentes antes do tratamento: {df2.salario.isna().sum()}')"
   ]
  },
  {
   "cell_type": "code",
   "execution_count": 172,
   "metadata": {},
   "outputs": [
    {
     "data": {
      "text/html": [
       "<div>\n",
       "<style scoped>\n",
       "    .dataframe tbody tr th:only-of-type {\n",
       "        vertical-align: middle;\n",
       "    }\n",
       "\n",
       "    .dataframe tbody tr th {\n",
       "        vertical-align: top;\n",
       "    }\n",
       "\n",
       "    .dataframe thead th {\n",
       "        text-align: right;\n",
       "    }\n",
       "</style>\n",
       "<table border=\"1\" class=\"dataframe\">\n",
       "  <thead>\n",
       "    <tr style=\"text-align: right;\">\n",
       "      <th></th>\n",
       "      <th>id</th>\n",
       "      <th>score</th>\n",
       "      <th>estado</th>\n",
       "      <th>genero</th>\n",
       "      <th>idade</th>\n",
       "      <th>patrimonio</th>\n",
       "      <th>saldo</th>\n",
       "      <th>produtos</th>\n",
       "      <th>tem_cartao_credito</th>\n",
       "      <th>ativo</th>\n",
       "      <th>salario</th>\n",
       "      <th>saiu</th>\n",
       "    </tr>\n",
       "  </thead>\n",
       "  <tbody>\n",
       "    <tr>\n",
       "      <th>17</th>\n",
       "      <td>18</td>\n",
       "      <td>549</td>\n",
       "      <td>SC</td>\n",
       "      <td>Feminino</td>\n",
       "      <td>24</td>\n",
       "      <td>9</td>\n",
       "      <td>0</td>\n",
       "      <td>2</td>\n",
       "      <td>1</td>\n",
       "      <td>1</td>\n",
       "      <td>NaN</td>\n",
       "      <td>0</td>\n",
       "    </tr>\n",
       "    <tr>\n",
       "      <th>52</th>\n",
       "      <td>53</td>\n",
       "      <td>788</td>\n",
       "      <td>RS</td>\n",
       "      <td>Feminino</td>\n",
       "      <td>33</td>\n",
       "      <td>5</td>\n",
       "      <td>0</td>\n",
       "      <td>2</td>\n",
       "      <td>0</td>\n",
       "      <td>0</td>\n",
       "      <td>NaN</td>\n",
       "      <td>0</td>\n",
       "    </tr>\n",
       "    <tr>\n",
       "      <th>179</th>\n",
       "      <td>181</td>\n",
       "      <td>754</td>\n",
       "      <td>PR</td>\n",
       "      <td>Feminino</td>\n",
       "      <td>55</td>\n",
       "      <td>3</td>\n",
       "      <td>16160881</td>\n",
       "      <td>1</td>\n",
       "      <td>1</td>\n",
       "      <td>0</td>\n",
       "      <td>NaN</td>\n",
       "      <td>1</td>\n",
       "    </tr>\n",
       "    <tr>\n",
       "      <th>330</th>\n",
       "      <td>332</td>\n",
       "      <td>656</td>\n",
       "      <td>RS</td>\n",
       "      <td>Masculino</td>\n",
       "      <td>50</td>\n",
       "      <td>7</td>\n",
       "      <td>0</td>\n",
       "      <td>2</td>\n",
       "      <td>0</td>\n",
       "      <td>1</td>\n",
       "      <td>NaN</td>\n",
       "      <td>0</td>\n",
       "    </tr>\n",
       "    <tr>\n",
       "      <th>426</th>\n",
       "      <td>428</td>\n",
       "      <td>492</td>\n",
       "      <td>PR</td>\n",
       "      <td>Masculino</td>\n",
       "      <td>39</td>\n",
       "      <td>10</td>\n",
       "      <td>12457665</td>\n",
       "      <td>2</td>\n",
       "      <td>1</td>\n",
       "      <td>0</td>\n",
       "      <td>NaN</td>\n",
       "      <td>0</td>\n",
       "    </tr>\n",
       "    <tr>\n",
       "      <th>550</th>\n",
       "      <td>552</td>\n",
       "      <td>721</td>\n",
       "      <td>PR</td>\n",
       "      <td>Feminino</td>\n",
       "      <td>36</td>\n",
       "      <td>3</td>\n",
       "      <td>6525307</td>\n",
       "      <td>2</td>\n",
       "      <td>1</td>\n",
       "      <td>0</td>\n",
       "      <td>NaN</td>\n",
       "      <td>0</td>\n",
       "    </tr>\n",
       "    <tr>\n",
       "      <th>983</th>\n",
       "      <td>985</td>\n",
       "      <td>614</td>\n",
       "      <td>PR</td>\n",
       "      <td>Feminino</td>\n",
       "      <td>35</td>\n",
       "      <td>6</td>\n",
       "      <td>12810028</td>\n",
       "      <td>1</td>\n",
       "      <td>0</td>\n",
       "      <td>0</td>\n",
       "      <td>NaN</td>\n",
       "      <td>1</td>\n",
       "    </tr>\n",
       "  </tbody>\n",
       "</table>\n",
       "</div>"
      ],
      "text/plain": [
       "      id  score estado     genero  idade  patrimonio     saldo  produtos  \\\n",
       "17    18    549     SC   Feminino     24           9         0         2   \n",
       "52    53    788     RS   Feminino     33           5         0         2   \n",
       "179  181    754     PR   Feminino     55           3  16160881         1   \n",
       "330  332    656     RS  Masculino     50           7         0         2   \n",
       "426  428    492     PR  Masculino     39          10  12457665         2   \n",
       "550  552    721     PR   Feminino     36           3   6525307         2   \n",
       "983  985    614     PR   Feminino     35           6  12810028         1   \n",
       "\n",
       "     tem_cartao_credito  ativo  salario  saiu  \n",
       "17                    1      1      NaN     0  \n",
       "52                    0      0      NaN     0  \n",
       "179                   1      0      NaN     1  \n",
       "330                   0      1      NaN     0  \n",
       "426                   1      0      NaN     0  \n",
       "550                   1      0      NaN     0  \n",
       "983                   0      0      NaN     1  "
      ]
     },
     "execution_count": 172,
     "metadata": {},
     "output_type": "execute_result"
    }
   ],
   "source": [
    "# registros com dados faltantes\n",
    "df2.loc[df2['salario'].isna()]"
   ]
  },
  {
   "cell_type": "code",
   "execution_count": 173,
   "metadata": {},
   "outputs": [
    {
     "data": {
      "text/html": [
       "<div>\n",
       "<style scoped>\n",
       "    .dataframe tbody tr th:only-of-type {\n",
       "        vertical-align: middle;\n",
       "    }\n",
       "\n",
       "    .dataframe tbody tr th {\n",
       "        vertical-align: top;\n",
       "    }\n",
       "\n",
       "    .dataframe thead th {\n",
       "        text-align: right;\n",
       "    }\n",
       "</style>\n",
       "<table border=\"1\" class=\"dataframe\">\n",
       "  <thead>\n",
       "    <tr style=\"text-align: right;\">\n",
       "      <th></th>\n",
       "      <th>id</th>\n",
       "      <th>score</th>\n",
       "      <th>estado</th>\n",
       "      <th>genero</th>\n",
       "      <th>idade</th>\n",
       "      <th>patrimonio</th>\n",
       "      <th>saldo</th>\n",
       "      <th>produtos</th>\n",
       "      <th>tem_cartao_credito</th>\n",
       "      <th>ativo</th>\n",
       "      <th>salario</th>\n",
       "      <th>saiu</th>\n",
       "    </tr>\n",
       "  </thead>\n",
       "  <tbody>\n",
       "  </tbody>\n",
       "</table>\n",
       "</div>"
      ],
      "text/plain": [
       "Empty DataFrame\n",
       "Columns: [id, score, estado, genero, idade, patrimonio, saldo, produtos, tem_cartao_credito, ativo, salario, saiu]\n",
       "Index: []"
      ]
     },
     "execution_count": 173,
     "metadata": {},
     "output_type": "execute_result"
    }
   ],
   "source": [
    "# substituindo dados faltantes pela mediana\n",
    "df2.loc[df2['salario'].isna()] = df2['salario'].median()\n",
    "\n",
    "# verificando alterações    \n",
    "df2.loc[df2['salario'].isna()]"
   ]
  },
  {
   "cell_type": "code",
   "execution_count": 174,
   "metadata": {},
   "outputs": [
    {
     "data": {
      "text/html": [
       "<div>\n",
       "<style scoped>\n",
       "    .dataframe tbody tr th:only-of-type {\n",
       "        vertical-align: middle;\n",
       "    }\n",
       "\n",
       "    .dataframe tbody tr th {\n",
       "        vertical-align: top;\n",
       "    }\n",
       "\n",
       "    .dataframe thead th {\n",
       "        text-align: right;\n",
       "    }\n",
       "</style>\n",
       "<table border=\"1\" class=\"dataframe\">\n",
       "  <thead>\n",
       "    <tr style=\"text-align: right;\">\n",
       "      <th></th>\n",
       "      <th>id</th>\n",
       "      <th>score</th>\n",
       "      <th>estado</th>\n",
       "      <th>genero</th>\n",
       "      <th>idade</th>\n",
       "      <th>patrimonio</th>\n",
       "      <th>saldo</th>\n",
       "      <th>produtos</th>\n",
       "      <th>tem_cartao_credito</th>\n",
       "      <th>ativo</th>\n",
       "      <th>salario</th>\n",
       "      <th>saiu</th>\n",
       "    </tr>\n",
       "  </thead>\n",
       "  <tbody>\n",
       "    <tr>\n",
       "      <th>7</th>\n",
       "      <td>8</td>\n",
       "      <td>376</td>\n",
       "      <td>PR</td>\n",
       "      <td>Feminino</td>\n",
       "      <td>29</td>\n",
       "      <td>4</td>\n",
       "      <td>11504674</td>\n",
       "      <td>4</td>\n",
       "      <td>1</td>\n",
       "      <td>0</td>\n",
       "      <td>1.193469e+10</td>\n",
       "      <td>1</td>\n",
       "    </tr>\n",
       "    <tr>\n",
       "      <th>116</th>\n",
       "      <td>118</td>\n",
       "      <td>668</td>\n",
       "      <td>PR</td>\n",
       "      <td>Feminino</td>\n",
       "      <td>37</td>\n",
       "      <td>6</td>\n",
       "      <td>1678644</td>\n",
       "      <td>1</td>\n",
       "      <td>1</td>\n",
       "      <td>0</td>\n",
       "      <td>1.156383e+10</td>\n",
       "      <td>0</td>\n",
       "    </tr>\n",
       "    <tr>\n",
       "      <th>170</th>\n",
       "      <td>172</td>\n",
       "      <td>484</td>\n",
       "      <td>RS</td>\n",
       "      <td>Feminino</td>\n",
       "      <td>29</td>\n",
       "      <td>4</td>\n",
       "      <td>13011439</td>\n",
       "      <td>1</td>\n",
       "      <td>1</td>\n",
       "      <td>0</td>\n",
       "      <td>1.640179e+09</td>\n",
       "      <td>0</td>\n",
       "    </tr>\n",
       "    <tr>\n",
       "      <th>230</th>\n",
       "      <td>232</td>\n",
       "      <td>673</td>\n",
       "      <td>RS</td>\n",
       "      <td>Masculino</td>\n",
       "      <td>72</td>\n",
       "      <td>1</td>\n",
       "      <td>0</td>\n",
       "      <td>2</td>\n",
       "      <td>0</td>\n",
       "      <td>1</td>\n",
       "      <td>1.119812e+09</td>\n",
       "      <td>0</td>\n",
       "    </tr>\n",
       "  </tbody>\n",
       "</table>\n",
       "</div>"
      ],
      "text/plain": [
       "      id  score estado     genero  idade  patrimonio     saldo  produtos  \\\n",
       "7      8    376     PR   Feminino     29           4  11504674         4   \n",
       "116  118    668     PR   Feminino     37           6   1678644         1   \n",
       "170  172    484     RS   Feminino     29           4  13011439         1   \n",
       "230  232    673     RS  Masculino     72           1         0         2   \n",
       "\n",
       "     tem_cartao_credito  ativo       salario  saiu  \n",
       "7                     1      0  1.193469e+10     1  \n",
       "116                   1      0  1.156383e+10     0  \n",
       "170                   1      0  1.640179e+09     0  \n",
       "230                   0      1  1.119812e+09     0  "
      ]
     },
     "execution_count": 174,
     "metadata": {},
     "output_type": "execute_result"
    }
   ],
   "source": [
    "# verificando outliers conforme a regra do negocio\n",
    "df2.loc[df2['salario'] > 2 * df2.salario.std()]"
   ]
  },
  {
   "cell_type": "code",
   "execution_count": null,
   "metadata": {},
   "outputs": [],
   "source": [
    "# substituindo outliers conforme a regra do negocio pela mediana \n",
    "df2.loc[df2['salario'] > 2 * df2.salario.std(), 'salario'] = df2.salario.median()"
   ]
  },
  {
   "cell_type": "code",
   "execution_count": 176,
   "metadata": {},
   "outputs": [
    {
     "data": {
      "image/png": "[encoded data removed]",
      "text/plain": [
       "<Figure size 1500x500 with 2 Axes>"
      ]
     },
     "metadata": {},
     "output_type": "display_data"
    }
   ],
   "source": [
    "# visualizando\n",
    "fig, ax = plt.subplots(1, 2, figsize=(15, 5))\n",
    "sns.boxplot(x=df2['salario'], ax=ax[0]).set_title('Boxplot de salario');\n",
    "sns.histplot(x=df2['salario'], kde=True, ax=ax[1]).set_title('Histograma de salario');\n",
    "plt.tight_layout()\n",
    "plt.show()"
   ]
  },
  {
   "cell_type": "markdown",
   "metadata": {},
   "source": [
    "## Report"
   ]
  },
  {
   "cell_type": "markdown",
   "metadata": {},
   "source": [
    "1. **Renomeação de colunas:** As colunas do dataset foram renomeadas para nomes mais descritivos e padronizados:\n",
    "\n",
    "    - Antes: X0, X1, X2, ...\n",
    "    - Depois: id, score, estado, genero, idade, patrimonio, saldo, produtos, tem_cartao_credito, ativo, salario, saiu\n",
    "\n",
    "2. **Tratamento de duplicatas:** Foram encontrados 2 registros duplicados na coluna id.\n",
    "    - Correção: Os registros duplicados foram removidos, mantendo apenas a primeira ocorrência.\n",
    "\n",
    "3. **Tratamento de Dados Categóricos**\n",
    "\n",
    "    Atributo genero\n",
    "\n",
    "    - Problemas Identificados:\n",
    "        - Valores nulos: 8 registros.\n",
    "        - Dados fora do domínio: códigos não padronizados como M, F, e Fem.\n",
    "        \n",
    "        \n",
    "    - Correções Realizadas:\n",
    "        - Substituição de valores nulos pela moda: Feminino.\n",
    "        - Padronização dos valores para: Masculino e Feminino.\n",
    "\n",
    "\n",
    "    Atributo estado\n",
    "\n",
    "    - Problemas Identificados:\n",
    "        - Dados fora do domínio: valores como SP, TD, e RP.\n",
    "\n",
    "    - Correções Realizadas:\n",
    "        - Substituição dos valores fora do domínio pela moda: RS.\n",
    "\n",
    "4. **Tratamento de Dados Numéricos**\n",
    "\n",
    "    Atributo idade\n",
    "\n",
    "    - Problemas Identificados:\n",
    "        - Valores fora do domínio: Idades inválidas (≤ 0 ou ≥ 110).\n",
    "    - Correções Realizadas:\n",
    "        - Substituição de valores fora do domínio pela mediana da coluna.\n",
    "\n",
    "\n",
    "    Atributo salario\n",
    "\n",
    "    - Problemas Identificados:\n",
    "        - Valores nulos: 7 registros.\n",
    "        - Outliers: Valores superiores a 2 desvios padrão acima da média.\n",
    "    - Correções Realizadas:\n",
    "        - Substituição de valores nulos pela mediana.\n",
    "        - Substituição de outliers pela mediana, com base na regra do negócio."
   ]
  }
 ],
 "metadata": {
  "kernelspec": {
   "display_name": "base",
   "language": "python",
   "name": "python3"
  },
  "language_info": {
   "codemirror_mode": {
    "name": "ipython",
    "version": 3
   },
   "file_extension": ".py",
   "mimetype": "text/x-python",
   "name": "python",
   "nbconvert_exporter": "python",
   "pygments_lexer": "ipython3",
   "version": "3.12.4"
  }
 },
 "nbformat": 4,
 "nbformat_minor": 2
}
